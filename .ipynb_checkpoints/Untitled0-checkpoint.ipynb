{
 "metadata": {
  "name": "",
  "signature": "sha256:94c67444e2c8cc9f1f6c1c40535c38dff9b74f6a204166fb572025732915f5d8"
 },
 "nbformat": 3,
 "nbformat_minor": 0,
 "worksheets": [
  {
   "cells": [
    {
     "cell_type": "code",
     "collapsed": false,
     "input": [
      "###############################################################################\n",
      "##\n",
      "## blumaps_sample.py\n",
      "## fetch all bus data, simple plot and store it to postgre\n",
      "## MTA bus key = 4723b4b0-3e16-4a17-a24b-48d79ea53dc0\n",
      "##\n",
      "###############################################################################\n",
      "\n",
      "import urllib2,json,argparse,sys,pyproj,shapefile \n",
      "import matplotlib.pyplot as plt\n",
      "from matplotlib.path import Path\n",
      "from matplotlib.patches import PathPatch\n",
      "from matplotlib.ticker import MaxNLocator\n",
      "import time\n",
      "import psycopg2\n",
      "import psycopg2.extras\n",
      "\n",
      "\n",
      "def KeyCheck(): \n",
      "  try:\n",
      "      webUrl = urllib2.urlopen(urlData)\n",
      "  except urllib2.HTTPError, e:\n",
      "      print 'Failed with error code - %s.' % e.code\n",
      "      if e.code == 403:\n",
      "          sys.exit(\"API key incorrect. Please try again\")\n",
      "      sys.exit()\n",
      "  \n",
      "def WebAccess():\n",
      "    # Open the URL and read the data\n",
      "    webUrl = urllib2.urlopen(urlData)\n",
      "    #print (webUrl.getcode())\n",
      "    if (webUrl.getcode() == 200):\n",
      "      data = webUrl.read()\n",
      "      #print \"Read data finished\"\n",
      "    else:\n",
      "      sys.exit(\"Received an error from server, cannot retrieve results \" + str(webUrl.getcode()))   \n",
      "    return data\n",
      "        \n",
      "def storePostgre(pgData):\n",
      "\n",
      "  # Use the json module to load the string data into a dictionary\n",
      "  jsonData = json.loads(pgData)  \n",
      "\n",
      "  #hardcode\n",
      "  #connecting to postGres and write jsonData\n",
      "  db = psycopg2.connect('dbname=json_test user=dimasrinarso password=bibirkubiasasaja')\n",
      "  cur = db.cursor()\n",
      "\n",
      "  #Preparation for conversion\n",
      "  keyIdx = -1\n",
      "  for i in jsonData[\"Siri\"][\"ServiceDelivery\"][\"VehicleMonitoringDelivery\"]:\n",
      "    for j in i[\"VehicleActivity\"]:\n",
      "      keyIdx =+ 1\n",
      "      lineName=j[\"MonitoredVehicleJourney\"][\"PublishedLineName\"]\n",
      "      destName=j[\"MonitoredVehicleJourney\"][\"DestinationName\"]\n",
      "      lat=j[\"MonitoredVehicleJourney\"][\"VehicleLocation\"][\"Latitude\"]\n",
      "      lon=j[\"MonitoredVehicleJourney\"][\"VehicleLocation\"][\"Longitude\"]\n",
      "      timeStamp=j[\"RecordedAtTime\"]\n",
      "      cur.execute(\"INSERT INTO bus(id,time,line,destination,latitude,longitude) VALUES (%d,%s,%s,%s,%s,%s)\",(keyIdx,timeStamp,lineName,destName,lat,lon))\n",
      "  db.commit()"
     ],
     "language": "python",
     "metadata": {},
     "outputs": [],
     "prompt_number": 2
    },
    {
     "cell_type": "code",
     "collapsed": false,
     "input": [
      "def main(bus_key,shp_dir,out_pdf):\n",
      "\n",
      "  #url data\n",
      "  global urlData\n",
      "  urlData = \"http://api.prod.obanyc.com/api/siri/vehicle-monitoring.json?key=\"+bus_key\n",
      "\n",
      "  #cheking API keys\n",
      "  KeyCheck()\n",
      "\n",
      "  # define a variable to hold the source URL\n",
      "  data = WebAccess()\n",
      " \n",
      "  storePostgre(data)\n",
      "      \n",
      "if __name__ == '__main__':\n",
      "  key = \"4723b4b0-3e16-4a17-a24b-48d79ea53dc0\"\n",
      "  shpdir = \"./nyc/SimplifiedStreetSegmentAnn.shp\"\n",
      "  outpdf = \"output.pdf\"\n",
      "  main(key,shpdir,outpdf)"
     ],
     "language": "python",
     "metadata": {},
     "outputs": [
      {
       "ename": "ValueError",
       "evalue": "unsupported format character 'd' (0x64) at index 70",
       "output_type": "pyerr",
       "traceback": [
        "\u001b[0;31m---------------------------------------------------------------------------\u001b[0m\n\u001b[0;31mValueError\u001b[0m                                Traceback (most recent call last)",
        "\u001b[0;32m<ipython-input-3-0fd3d09e1cbc>\u001b[0m in \u001b[0;36m<module>\u001b[0;34m()\u001b[0m\n\u001b[1;32m     17\u001b[0m   \u001b[0mshpdir\u001b[0m \u001b[0;34m=\u001b[0m \u001b[0;34m\"./nyc/SimplifiedStreetSegmentAnn.shp\"\u001b[0m\u001b[0;34m\u001b[0m\u001b[0m\n\u001b[1;32m     18\u001b[0m   \u001b[0moutpdf\u001b[0m \u001b[0;34m=\u001b[0m \u001b[0;34m\"output.pdf\"\u001b[0m\u001b[0;34m\u001b[0m\u001b[0m\n\u001b[0;32m---> 19\u001b[0;31m   \u001b[0mmain\u001b[0m\u001b[0;34m(\u001b[0m\u001b[0mkey\u001b[0m\u001b[0;34m,\u001b[0m\u001b[0mshpdir\u001b[0m\u001b[0;34m,\u001b[0m\u001b[0moutpdf\u001b[0m\u001b[0;34m)\u001b[0m\u001b[0;34m\u001b[0m\u001b[0m\n\u001b[0m",
        "\u001b[0;32m<ipython-input-3-0fd3d09e1cbc>\u001b[0m in \u001b[0;36mmain\u001b[0;34m(bus_key, shp_dir, out_pdf)\u001b[0m\n\u001b[1;32m     11\u001b[0m   \u001b[0mdata\u001b[0m \u001b[0;34m=\u001b[0m \u001b[0mWebAccess\u001b[0m\u001b[0;34m(\u001b[0m\u001b[0;34m)\u001b[0m\u001b[0;34m\u001b[0m\u001b[0m\n\u001b[1;32m     12\u001b[0m \u001b[0;34m\u001b[0m\u001b[0m\n\u001b[0;32m---> 13\u001b[0;31m   \u001b[0mstorePostgre\u001b[0m\u001b[0;34m(\u001b[0m\u001b[0mdata\u001b[0m\u001b[0;34m)\u001b[0m\u001b[0;34m\u001b[0m\u001b[0m\n\u001b[0m\u001b[1;32m     14\u001b[0m \u001b[0;34m\u001b[0m\u001b[0m\n\u001b[1;32m     15\u001b[0m \u001b[0;32mif\u001b[0m \u001b[0m__name__\u001b[0m \u001b[0;34m==\u001b[0m \u001b[0;34m'__main__'\u001b[0m\u001b[0;34m:\u001b[0m\u001b[0;34m\u001b[0m\u001b[0m\n",
        "\u001b[0;32m<ipython-input-2-eac7d686c044>\u001b[0m in \u001b[0;36mstorePostgre\u001b[0;34m(pgData)\u001b[0m\n\u001b[1;32m     57\u001b[0m       \u001b[0mlon\u001b[0m\u001b[0;34m=\u001b[0m\u001b[0mj\u001b[0m\u001b[0;34m[\u001b[0m\u001b[0;34m\"MonitoredVehicleJourney\"\u001b[0m\u001b[0;34m]\u001b[0m\u001b[0;34m[\u001b[0m\u001b[0;34m\"VehicleLocation\"\u001b[0m\u001b[0;34m]\u001b[0m\u001b[0;34m[\u001b[0m\u001b[0;34m\"Longitude\"\u001b[0m\u001b[0;34m]\u001b[0m\u001b[0;34m\u001b[0m\u001b[0m\n\u001b[1;32m     58\u001b[0m       \u001b[0mtimeStamp\u001b[0m\u001b[0;34m=\u001b[0m\u001b[0mj\u001b[0m\u001b[0;34m[\u001b[0m\u001b[0;34m\"RecordedAtTime\"\u001b[0m\u001b[0;34m]\u001b[0m\u001b[0;34m\u001b[0m\u001b[0m\n\u001b[0;32m---> 59\u001b[0;31m       \u001b[0mcur\u001b[0m\u001b[0;34m.\u001b[0m\u001b[0mexecute\u001b[0m\u001b[0;34m(\u001b[0m\u001b[0;34m\"INSERT INTO bus(id,time,line,destination,latitude,longitude) VALUES (%d,%s,%s,%s,%d,%d)\"\u001b[0m\u001b[0;34m,\u001b[0m\u001b[0;34m(\u001b[0m\u001b[0mkeyIdx\u001b[0m\u001b[0;34m,\u001b[0m\u001b[0mtimeStamp\u001b[0m\u001b[0;34m,\u001b[0m\u001b[0mlineName\u001b[0m\u001b[0;34m,\u001b[0m\u001b[0mdestName\u001b[0m\u001b[0;34m,\u001b[0m\u001b[0mlat\u001b[0m\u001b[0;34m,\u001b[0m\u001b[0mlon\u001b[0m\u001b[0;34m)\u001b[0m\u001b[0;34m)\u001b[0m\u001b[0;34m\u001b[0m\u001b[0m\n\u001b[0m\u001b[1;32m     60\u001b[0m   \u001b[0mdb\u001b[0m\u001b[0;34m.\u001b[0m\u001b[0mcommit\u001b[0m\u001b[0;34m(\u001b[0m\u001b[0;34m)\u001b[0m\u001b[0;34m\u001b[0m\u001b[0m\n",
        "\u001b[0;31mValueError\u001b[0m: unsupported format character 'd' (0x64) at index 70"
       ]
      }
     ],
     "prompt_number": 3
    }
   ],
   "metadata": {}
  }
 ]
}